{
 "cells": [
  {
   "cell_type": "code",
   "execution_count": null,
   "metadata": {},
   "outputs": [],
   "source": [
    "#import libs\n",
    "import pandas as pd\n",
    "import numpy as np\n",
    "import Gaussiano as gauss\n",
    "import KnnMethod as knn\n",
    "import Sum_Rule as sumRule\n",
    "from sklearn.model_selection import train_test_split\n",
    "from sklearn.metrics import accuracy_score\n",
    "from sklearn.model_selection import KFold\n",
    "from sklearn import preprocessing"
   ]
  },
  {
   "cell_type": "code",
   "execution_count": 2,
   "metadata": {},
   "outputs": [],
   "source": [
    "#load datas\n",
    "data1 = pd.read_csv('mfeat-fac', delimiter='\\\\s+', header=None)\n",
    "data2 = pd.read_csv('mfeat-fou', delimiter='\\\\s+', header=None)\n",
    "data3 = pd.read_csv('mfeat-kar', delimiter='\\\\s+', header=None)\n",
    "\n",
    "x1 = data1.iloc[:,:].values\n",
    "x2 = data2.iloc[:,:].values\n",
    "x3 = data3.iloc[:,:].values"
   ]
  },
  {
   "cell_type": "code",
   "execution_count": 3,
   "metadata": {},
   "outputs": [
    {
     "name": "stderr",
     "output_type": "stream",
     "text": [
      "/anaconda3/lib/python3.7/site-packages/sklearn/utils/validation.py:595: DataConversionWarning: Data with input dtype int64 was converted to float64 by StandardScaler.\n",
      "  warnings.warn(msg, DataConversionWarning)\n",
      "/anaconda3/lib/python3.7/site-packages/sklearn/utils/validation.py:595: DataConversionWarning: Data with input dtype int64 was converted to float64 by StandardScaler.\n",
      "  warnings.warn(msg, DataConversionWarning)\n"
     ]
    }
   ],
   "source": [
    "#normalize x1\n",
    "scaler = preprocessing.StandardScaler().fit(x1)\n",
    "x1Normalized = scaler.transform(x1)"
   ]
  },
  {
   "cell_type": "code",
   "execution_count": 4,
   "metadata": {},
   "outputs": [],
   "source": [
    "# set y\n",
    "y = []\n",
    "\n",
    "#put labels\n",
    "for i in range(len(x1)):\n",
    "    if (i>=0 and i<=199):\n",
    "        y.append(0)\n",
    "    elif (i>=200 and i<=399):\n",
    "        y.append(1)\n",
    "    elif (i>=400 and i<=599):\n",
    "        y.append(2)\n",
    "    elif (i>=600 and i<=799):\n",
    "        y.append(3)\n",
    "    elif (i>=800 and i<=999):\n",
    "        y.append(4)\n",
    "    elif (i>=1000 and i<=1199):\n",
    "        y.append(5)\n",
    "    elif (i>=1200 and i<=1399):\n",
    "        y.append(6)\n",
    "    elif (i>=1400 and i<=1599):\n",
    "        y.append(7)\n",
    "    elif (i>=1600 and i<=1799):\n",
    "        y.append(8)\n",
    "    elif (i>=1800 and i<=1999):\n",
    "        y.append(9)"
   ]
  },
  {
   "cell_type": "code",
   "execution_count": 5,
   "metadata": {},
   "outputs": [],
   "source": [
    "def execute_kfold():\n",
    "   \n",
    "    label = np.array(y)\n",
    "\n",
    "    accuracyKnn = []\n",
    "    accuracyGauss = []\n",
    "\n",
    "    kf = KFold(n_splits=10, random_state=None, shuffle=True)\n",
    "\n",
    "    for train_index, test_index in kf.split(x1):\n",
    "   \n",
    "        #view1\n",
    "        x1_train, x1_test = x1Normalized[train_index], x1Normalized[test_index]\n",
    "        y1_train, y1_test = label[train_index], label[test_index]\n",
    "        #view2\n",
    "        x2_train, x2_test = x2[train_index], x2[test_index]\n",
    "        y2_train, y2_test = label[train_index], label[test_index]    \n",
    "        #view3\n",
    "        x3_train, x3_test = x3[train_index], x3[test_index]\n",
    "        y3_train, y3_test = label[train_index], label[test_index]\n",
    "    \n",
    "\n",
    "        #gausiano runs\n",
    "        #classification by view1\n",
    "        returnGaussView1 = gauss.test_bayes(x1_train, y1_train, x1_test)\n",
    "        pGauss1 = returnGaussView1[0]\n",
    "        apriori = returnGaussView1[1]\n",
    "        #classification by view2\n",
    "        returnGaussView2 = gauss.test_bayes(x2_train, y2_train, x2_test)\n",
    "        pGauss2 = returnGaussView2[0]\n",
    "        #classification by view3\n",
    "        returnGaussView3 = gauss.test_bayes(x3_train, y3_train, x3_test)\n",
    "        pGauss3 = returnGaussView3[0]\n",
    "        #sum rule\n",
    "        accuracyGauss.append(sumRule.sum_rule(pGauss1,pGauss2,pGauss3,apriori,y1_test))\n",
    "\n",
    "        #knn runs\n",
    "        retunrKnnView1 = knn.knn_method(x1_train,y1_train,x1_test,3)\n",
    "        retunrKnnView2 = knn.knn_method(x2_train,y2_train,x2_test,5)\n",
    "        retunrKnnView3 = knn.knn_method(x3_train,y3_train,x3_test,5)\n",
    "        #sum rule\n",
    "        accuracyKnn.append(sumRule.sum_rule(retunrKnnView1,retunrKnnView2,retunrKnnView3,apriori,y1_test))\n",
    "        \n",
    "    mean1 = np.mean(accuracyGauss)\n",
    "    mean2 = np.mean(accuracyKnn)\n",
    "    \n",
    "    return mean1, mean2"
   ]
  },
  {
   "cell_type": "code",
   "execution_count": null,
   "metadata": {},
   "outputs": [],
   "source": []
  },
  {
   "cell_type": "code",
   "execution_count": null,
   "metadata": {},
   "outputs": [],
   "source": []
  },
  {
   "cell_type": "code",
   "execution_count": null,
   "metadata": {},
   "outputs": [
    {
     "name": "stderr",
     "output_type": "stream",
     "text": [
      "100%|██████████| 30/30 [1:35:34<00:00, 187.07s/it]\n"
     ]
    }
   ],
   "source": [
    "#ten kfold\n",
    "run = 1\n",
    "from tqdm import tqdm\n",
    "\n",
    "globalAccuracy = []\n",
    "\n",
    "for j in tqdm(range(run)):\n",
    "    globalAccuracy.append(execute_kfold())"
   ]
  },
  {
   "cell_type": "code",
   "execution_count": 14,
   "metadata": {},
   "outputs": [
    {
     "data": {
      "text/plain": [
       "[(0.953, 0.984),\n",
       " (0.9545, 0.9825000000000002),\n",
       " (0.9540000000000001, 0.9855),\n",
       " (0.954, 0.9845),\n",
       " (0.953, 0.9834999999999999),\n",
       " (0.9535, 0.9829999999999999),\n",
       " (0.9545, 0.9845),\n",
       " (0.9544999999999998, 0.984),\n",
       " (0.9555, 0.984),\n",
       " (0.9530000000000001, 0.983),\n",
       " (0.9535, 0.984),\n",
       " (0.9560000000000001, 0.9834999999999999),\n",
       " (0.9550000000000001, 0.9854999999999998),\n",
       " (0.9550000000000001, 0.9834999999999999),\n",
       " (0.9545, 0.9845),\n",
       " (0.9524999999999999, 0.9844999999999999),\n",
       " (0.9555, 0.9834999999999999),\n",
       " (0.954, 0.983),\n",
       " (0.9549999999999998, 0.9855),\n",
       " (0.9549999999999998, 0.984),\n",
       " (0.9549999999999998, 0.9824999999999999),\n",
       " (0.954, 0.9844999999999999),\n",
       " (0.9545, 0.985),\n",
       " (0.952, 0.9845),\n",
       " (0.9550000000000001, 0.9844999999999999),\n",
       " (0.9550000000000001, 0.985),\n",
       " (0.953, 0.9855),\n",
       " (0.9555, 0.985),\n",
       " (0.9535, 0.9834999999999999),\n",
       " (0.953, 0.9844999999999999)]"
      ]
     },
     "execution_count": 14,
     "metadata": {},
     "output_type": "execute_result"
    }
   ],
   "source": [
    "globalAccuracy"
   ]
  }
 ],
 "metadata": {
  "kernelspec": {
   "display_name": "Python 3",
   "language": "python",
   "name": "python3"
  },
  "language_info": {
   "codemirror_mode": {
    "name": "ipython",
    "version": 3
   },
   "file_extension": ".py",
   "mimetype": "text/x-python",
   "name": "python",
   "nbconvert_exporter": "python",
   "pygments_lexer": "ipython3",
   "version": "3.7.3"
  }
 },
 "nbformat": 4,
 "nbformat_minor": 2
}
