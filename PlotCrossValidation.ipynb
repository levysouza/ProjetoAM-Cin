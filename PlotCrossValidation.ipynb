{
 "cells": [
  {
   "cell_type": "code",
   "execution_count": 19,
   "metadata": {},
   "outputs": [],
   "source": [
    "import pandas as pd\n",
    "data1 = pd.read_csv('resultados/CrossValidation.csv', delimiter=';')"
   ]
  },
  {
   "cell_type": "code",
   "execution_count": 20,
   "metadata": {},
   "outputs": [],
   "source": [
    "x1 = data1.iloc[:,:].values"
   ]
  },
  {
   "cell_type": "code",
   "execution_count": 35,
   "metadata": {},
   "outputs": [],
   "source": [
    "gauss = []\n",
    "knn = []\n",
    "\n",
    "for i in range(len(x1)):\n",
    "    \n",
    "    gauss.append(x1[i][0])\n",
    "    \n",
    "    knn.append(x1[i][1])"
   ]
  },
  {
   "cell_type": "code",
   "execution_count": 78,
   "metadata": {},
   "outputs": [],
   "source": [
    "datasets = [1,2,3,4,5,6,7,8,9,10,11,12,13,14,15,16,17,18,19,20,21,22,23,24,25,26,27,28,29,30]\n",
    "g = gauss\n",
    "k = knn\n",
    "dif = np.subtract(knn,gauss)"
   ]
  },
  {
   "cell_type": "code",
   "execution_count": 82,
   "metadata": {},
   "outputs": [
    {
     "data": {
      "image/png": "[encoded data removed]",
      "text/plain": [
       "<Figure size 432x288 with 1 Axes>"
      ]
     },
     "metadata": {
      "needs_background": "light"
     },
     "output_type": "display_data"
    }
   ],
   "source": [
    "import numpy as np\n",
    "import matplotlib.pyplot as plt\n",
    "\n",
    "import matplotlib.font_manager as font_manager\n",
    "\n",
    "n_groups = 30\n",
    "\n",
    "PRECISION = dif\n",
    "\n",
    "fig, ax = plt.subplots()\n",
    "\n",
    "index = np.arange(n_groups)\n",
    "bar_width = 0.5\n",
    "opaCity = 0.99\n",
    "error_config = {'ecolor': '0.5'}\n",
    "\n",
    "rects1 = plt.bar(index, PRECISION, bar_width,\n",
    "                 alpha=opaCity,\n",
    "                 color='#0570b0',\n",
    "                 error_kw=error_config,\n",
    "                 label='F-MEASURE',\n",
    "                 edgecolor='#252525')\n",
    "\n",
    "plt.xlabel(u'Dataset',fontsize=14)\n",
    "plt.ylabel('Acurracy',fontsize=14)\n",
    "plt.xticks(index, datasets)\n",
    "plt.tick_params(labelsize=10)\n",
    "plt.title(u'Difference Between Knn and Gaussian', fontsize=12, fontweight='bold')\n",
    "plt.autoscale(tight=True)\n",
    "plt.tight_layout()  \n",
    "plt.xticks(fontsize=8)\n",
    "\n",
    "ax.set_ylim(-0.5,0.5)\n",
    "\n",
    "\n",
    "ax.yaxis.grid()\n",
    "def autolabel(rects):\n",
    "    # attach some text labels\n",
    "    for rect in rects:\n",
    "        height = rect.get_height()\n",
    "        ax.text(rect.get_x() + rect.get_width()/2., 1*height+0.01,\n",
    "                '%.0f' % (height),\n",
    "                ha='center', va='bottom', fontsize=5, fontweight='bold')\n",
    "\n",
    "#autolabel(rects1)\n",
    "plt.savefig(\"GaussianoVsKnn.pdf\")\n",
    "\n",
    "plt.show()"
   ]
  },
  {
   "cell_type": "code",
   "execution_count": null,
   "metadata": {},
   "outputs": [],
   "source": []
  }
 ],
 "metadata": {
  "kernelspec": {
   "display_name": "Python 3",
   "language": "python",
   "name": "python3"
  },
  "language_info": {
   "codemirror_mode": {
    "name": "ipython",
    "version": 3
   },
   "file_extension": ".py",
   "mimetype": "text/x-python",
   "name": "python",
   "nbconvert_exporter": "python",
   "pygments_lexer": "ipython3",
   "version": "3.7.3"
  }
 },
 "nbformat": 4,
 "nbformat_minor": 2
}
